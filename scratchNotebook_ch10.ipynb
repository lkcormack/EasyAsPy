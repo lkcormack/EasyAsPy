{
 "cells": [
  {
   "cell_type": "markdown",
   "metadata": {},
   "source": [
    "Scratch notebook for functions & modules chapter"
   ]
  },
  {
   "cell_type": "markdown",
   "metadata": {},
   "source": [
    "Something"
   ]
  },
  {
   "cell_type": "markdown",
   "metadata": {},
   "source": [
    "## (not for students) testing module import"
   ]
  },
  {
   "cell_type": "code",
   "execution_count": 1,
   "metadata": {},
   "outputs": [
    {
     "name": "stdout",
     "output_type": "stream",
     "text": [
      "Hi,  Zhiying\n",
      "Hi, this is mymodule speaking.\n"
     ]
    }
   ],
   "source": [
    "import mymodule as mm\n",
    "\n",
    "mm.say_hi(\"Zhiying\")"
   ]
  },
  {
   "cell_type": "markdown",
   "metadata": {},
   "source": [
    "## School maze"
   ]
  },
  {
   "cell_type": "markdown",
   "metadata": {},
   "source": []
  },
  {
   "cell_type": "markdown",
   "metadata": {},
   "source": [
    "Navigate a small school building with a Home Room connecting to a Study and a Library; the Library in turn is connected to a Video room and a Music room. \n",
    "\n",
    "Keep track of which room the maze runner is in by keeping a string showing the route from the Home Room. For example, the video room would be /Home/Library/Videos "
   ]
  },
  {
   "cell_type": "markdown",
   "metadata": {},
   "source": [
    "First, check that we can find the \"door\" delimiter. Let's say it's \"/\"."
   ]
  },
  {
   "cell_type": "code",
   "execution_count": 5,
   "metadata": {},
   "outputs": [
    {
     "name": "stdout",
     "output_type": "stream",
     "text": [
      "4\n"
     ]
    }
   ],
   "source": [
    "ps = \"Home/Library\"\n",
    "ind = -999\n",
    "while ind < len(ps):\n",
    "    ind_old = ind\n",
    "    ind = ps.find(\"/\", ind + 1)\n",
    "    if ind == -1:\n",
    "        break\n",
    "    \n",
    "print(ind_old)"
   ]
  },
  {
   "cell_type": "markdown",
   "metadata": {},
   "source": [
    "And we can! "
   ]
  }
 ],
 "metadata": {
  "kernelspec": {
   "display_name": "FDSI",
   "language": "python",
   "name": "python3"
  },
  "language_info": {
   "codemirror_mode": {
    "name": "ipython",
    "version": 3
   },
   "file_extension": ".py",
   "mimetype": "text/x-python",
   "name": "python",
   "nbconvert_exporter": "python",
   "pygments_lexer": "ipython3",
   "version": "3.11.5"
  }
 },
 "nbformat": 4,
 "nbformat_minor": 2
}
