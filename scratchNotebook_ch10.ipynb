{
 "cells": [
  {
   "cell_type": "markdown",
   "metadata": {},
   "source": [
    "Scratch notebook for functions & modules chapter"
   ]
  },
  {
   "cell_type": "markdown",
   "metadata": {},
   "source": [
    "### function for plotting example"
   ]
  },
  {
   "cell_type": "markdown",
   "metadata": {},
   "source": [
    "non-function version"
   ]
  },
  {
   "cell_type": "code",
   "execution_count": null,
   "metadata": {},
   "outputs": [],
   "source": [
    "x = [x for x in range(1, 6)]\n",
    "# y = [tmp**2 for tmp in x]\n",
    "y = []\n",
    "for tmp in x:\n",
    "    y.append(tmp**2)\n",
    "\n",
    "import matplotlib.pyplot as plt\n",
    "\n",
    "plt.plot(x, y)\n",
    "plt.xlabel('x')\n",
    "plt.ylabel('y')\n",
    "plt.title('y = x^2')\n",
    "plt.show()\n"
   ]
  },
  {
   "cell_type": "markdown",
   "metadata": {},
   "source": [
    "Non-function version: multiple plots:"
   ]
  },
  {
   "cell_type": "code",
   "execution_count": null,
   "metadata": {},
   "outputs": [],
   "source": [
    "x = [x for x in range(1, 6)]\n",
    "y = [tmp**2 for tmp in x]\n",
    "y2 = [tmp**2.2 for tmp in x]\n",
    "y3 = [tmp**3 for tmp in x]\n",
    "y4 = [tmp**0.5 for tmp in x]\n",
    "\n",
    "import matplotlib.pyplot as plt\n",
    "\n",
    "plt.plot(x, y)\n",
    "plt.xlabel('x')\n",
    "plt.ylabel('y')\n",
    "plt.title('y = x^2')\n",
    "plt.show()\n",
    "\n",
    "plt.plot(x, y2) # y = x^2.2\n",
    "plt.xlabel('x')\n",
    "plt.ylabel('y')\n",
    "plt.title('y = x^2.2')\n",
    "plt.show()\n",
    "\n",
    "plt.plot(x, y3) # y = x^3\n",
    "plt.xlabel('x')\n",
    "plt.ylabel('y')\n",
    "plt.title('y = x^3')\n",
    "plt.show()\n",
    "\n",
    "plt.plot(x, y4) # y = x^0.5\n",
    "plt.xlabel('x')\n",
    "plt.ylabel('y')\n",
    "plt.title('y = x^0.5')\n",
    "plt.show()\n"
   ]
  },
  {
   "cell_type": "markdown",
   "metadata": {},
   "source": [
    "functionalized version"
   ]
  },
  {
   "cell_type": "code",
   "execution_count": 6,
   "metadata": {},
   "outputs": [],
   "source": [
    "\n",
    "def myplt(x, y, title=''):\n",
    "    import matplotlib.pyplot as plt\n",
    "    plt.plot(x, y)\n",
    "    plt.xlabel('x')\n",
    "    plt.ylabel('y')\n",
    "    plt.title(title)\n",
    "    plt.show()\n"
   ]
  },
  {
   "cell_type": "code",
   "execution_count": null,
   "metadata": {},
   "outputs": [],
   "source": [
    "x = [x for x in range(1, 6)]           # make x\n",
    "exps = [2, 2.2, 3, 0.5]                # make exponents\n",
    "\n",
    "y = [tmp**2 for tmp in x]              # make and plot y\n",
    "myplt(x, y, 'model: y = x^2')\n",
    "\n",
    "y2 = [tmp**exps[1] for tmp in x]       # make and plot y2\n",
    "myplt(x, y2, 'model: y = x^2.2')\n",
    "\n",
    "y3 = [tmp**exps[2] for tmp in x]       # make and plot y3\n",
    "myplt(x, y3, 'model: y = x^3')\n",
    "\n",
    "y4 = [tmp**exps[3] for tmp in x]       # make and plot y4\n",
    "myplt(x, y4, 'model: y = x^0.5')\n",
    "\n"
   ]
  },
  {
   "cell_type": "markdown",
   "metadata": {},
   "source": [
    "modified plotting function"
   ]
  },
  {
   "cell_type": "code",
   "execution_count": 8,
   "metadata": {},
   "outputs": [],
   "source": [
    "\n",
    "def myplt(x, y, title=''):\n",
    "    import matplotlib.pyplot as plt\n",
    "    plt.plot(x, y, 'ro-')\n",
    "    plt.xlabel('x')\n",
    "    plt.ylabel('y')\n",
    "    plt.title(title)\n",
    "    plt.show()\n"
   ]
  },
  {
   "cell_type": "markdown",
   "metadata": {},
   "source": [
    "#### Exercise: compacting the code even more."
   ]
  },
  {
   "cell_type": "markdown",
   "metadata": {},
   "source": [
    "function to make the y values"
   ]
  },
  {
   "cell_type": "code",
   "execution_count": 16,
   "metadata": {},
   "outputs": [],
   "source": [
    "def makey(x, exp):\n",
    "    return [tmp**exp for tmp in x]"
   ]
  },
  {
   "cell_type": "markdown",
   "metadata": {},
   "source": [
    "now the main code to use a `for` loop to do the things"
   ]
  },
  {
   "cell_type": "code",
   "execution_count": null,
   "metadata": {},
   "outputs": [],
   "source": [
    "x = [x for x in range(1, 6)]           # make x\n",
    "exps = [2, 2.2, 3, 0.5]                # make exponents\n",
    "\n",
    "for i in range(len(exps)):\n",
    "    y = makey(x, exps[i])              # make and plot y\n",
    "    myplt(x, y, 'model: y = x^' + str(exps[i]))\n"
   ]
  },
  {
   "cell_type": "markdown",
   "metadata": {},
   "source": [
    "### Importing and using a module"
   ]
  },
  {
   "cell_type": "code",
   "execution_count": 15,
   "metadata": {},
   "outputs": [
    {
     "name": "stdout",
     "output_type": "stream",
     "text": [
      "aand of True and True is True\n",
      "oor of True and True is True\n",
      "xxor of True and True is False\n",
      "\n",
      "aand of False and False is False\n",
      "oor of False and False is False\n",
      "xxor of False and False is False\n",
      "\n",
      "aand of True and False is False\n",
      "oor of True and False is True\n",
      "xxor of True and False is True\n",
      "\n"
     ]
    }
   ],
   "source": [
    "import spock\n",
    "\n",
    "# case TT\n",
    "a, b = True, True\n",
    "\n",
    "ans = spock.aand(a, b)\n",
    "print(f\"aand of {a} and {b} is {ans}\")\n",
    "ans = spock.oor(a, b)\n",
    "print(f\"oor of {a} and {b} is {ans}\")\n",
    "ans = spock.xxor(a, b)\n",
    "print(f\"xxor of {a} and {b} is {ans}\\n\")\n",
    "\n",
    "# case FF\n",
    "a, b = False, False\n",
    "\n",
    "ans = spock.aand(a, b)\n",
    "print(f\"aand of {a} and {b} is {ans}\")\n",
    "ans = spock.oor(a, b)\n",
    "print(f\"oor of {a} and {b} is {ans}\")\n",
    "ans = spock.xxor(a, b)\n",
    "print(f\"xxor of {a} and {b} is {ans}\\n\")\n",
    "\n",
    "# case TF (or FT)\n",
    "a, b = True, False\n",
    "ans = spock.aand(a, b)\n",
    "print(f\"aand of {a} and {b} is {ans}\")\n",
    "ans = spock.oor(a, b)\n",
    "print(f\"oor of {a} and {b} is {ans}\")\n",
    "ans = spock.xxor(a, b)\n",
    "print(f\"xxor of {a} and {b} is {ans}\\n\")\n"
   ]
  },
  {
   "cell_type": "markdown",
   "metadata": {},
   "source": [
    "#  testing turtle \n",
    "## Note!!! Use Wing or straight VS code to use the turtle - he doesn't like Jupyter notebooks. Code is in book folder."
   ]
  },
  {
   "cell_type": "markdown",
   "metadata": {},
   "source": [
    "Note: code works in Jupyter lab, BUT you HAVE to restart the kernel (Python) after each go – each tap of the run button."
   ]
  },
  {
   "cell_type": "code",
   "execution_count": null,
   "metadata": {},
   "outputs": [],
   "source": [
    "import turtle\n",
    "import time\n",
    "\n",
    "# Create a turtle object\n",
    "t = turtle.Turtle()\n",
    "\n",
    "# Move the turtle forward by 100 units\n",
    "t.forward(100)\n",
    "\n",
    "# Turn the turtle to the right by 90 degrees\n",
    "t.right(90)\n",
    "\n",
    "# Move the turtle forward by 100 units\n",
    "t.forward(100)\n",
    "\n",
    "# Close the turtle graphics window\n",
    "\n",
    "turtle.done()\n",
    "\n"
   ]
  },
  {
   "cell_type": "code",
   "execution_count": 1,
   "metadata": {},
   "outputs": [],
   "source": [
    "import turtle\n",
    "\n",
    "t = turtle.Turtle()\n",
    "\n",
    "# Draw a square\n",
    "for _ in range(4):\n",
    "    t.forward(100)  # Move forward by 100 units\n",
    "    t.right(90)     # Turn right by 90 degrees\n",
    "\n",
    "turtle.done()\n",
    "\n"
   ]
  },
  {
   "cell_type": "markdown",
   "metadata": {},
   "source": [
    "## Puzzles"
   ]
  },
  {
   "cell_type": "markdown",
   "metadata": {},
   "source": [
    "### School maze"
   ]
  },
  {
   "cell_type": "markdown",
   "metadata": {},
   "source": []
  },
  {
   "cell_type": "markdown",
   "metadata": {},
   "source": [
    "Navigate a small school building with a Home Room connecting to a Study and a Library; the Library in turn is connected to a Video room and a Music room. \n",
    "\n",
    "Keep track of which room the maze runner is in by keeping a string showing the route from the Home Room. For example, the video room would be /Home/Library/Videos "
   ]
  },
  {
   "cell_type": "markdown",
   "metadata": {},
   "source": [
    "First, check that we can find the \"door\" delimiter. Let's say it's \"/\"."
   ]
  },
  {
   "cell_type": "code",
   "execution_count": 5,
   "metadata": {},
   "outputs": [
    {
     "name": "stdout",
     "output_type": "stream",
     "text": [
      "4\n"
     ]
    }
   ],
   "source": [
    "ps = \"Home/Library\"\n",
    "ind = -999\n",
    "while ind < len(ps):\n",
    "    ind_old = ind\n",
    "    ind = ps.find(\"/\", ind + 1)\n",
    "    if ind == -1:\n",
    "        break\n",
    "    \n",
    "print(ind_old)"
   ]
  },
  {
   "cell_type": "markdown",
   "metadata": {},
   "source": [
    "And we can! "
   ]
  },
  {
   "cell_type": "markdown",
   "metadata": {},
   "source": []
  },
  {
   "cell_type": "markdown",
   "metadata": {},
   "source": [
    "## (not for students) testing module import"
   ]
  },
  {
   "cell_type": "code",
   "execution_count": null,
   "metadata": {},
   "outputs": [
    {
     "name": "stdout",
     "output_type": "stream",
     "text": [
      "Hi,  Zhiying\n",
      "Hi, this is mymodule speaking.\n"
     ]
    }
   ],
   "source": [
    "import mymodule as mm\n",
    "\n",
    "mm.say_hi(\"Zhiying\")"
   ]
  }
 ],
 "metadata": {
  "kernelspec": {
   "display_name": "base",
   "language": "python",
   "name": "python3"
  },
  "language_info": {
   "codemirror_mode": {
    "name": "ipython",
    "version": 3
   },
   "file_extension": ".py",
   "mimetype": "text/x-python",
   "name": "python",
   "nbconvert_exporter": "python",
   "pygments_lexer": "ipython3",
   "version": "3.11.8"
  }
 },
 "nbformat": 4,
 "nbformat_minor": 4
}
