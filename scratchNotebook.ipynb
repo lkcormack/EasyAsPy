{
 "cells": [
  {
   "cell_type": "code",
   "execution_count": 2,
   "metadata": {},
   "outputs": [
    {
     "name": "stdout",
     "output_type": "stream",
     "text": [
      "You guessed it! Now go play the lottery!\n"
     ]
    }
   ],
   "source": [
    "ans = 5\n",
    "x = input(\"Enter a number between 1 and 9: \\n\")\n",
    "x = int(x)\n",
    "if x == 5 :\n",
    "    print(\"You guessed it! Now go play the lottery!\")\n",
    "else :\n",
    "    print(f\"Sorry, {x} was not the correct number.\")   "
   ]
  },
  {
   "cell_type": "code",
   "execution_count": null,
   "metadata": {},
   "outputs": [],
   "source": [
    "ayy = 2\n",
    "bee = 7\n",
    "sea = 1\n",
    "dee = 8\n"
   ]
  },
  {
   "cell_type": "markdown",
   "metadata": {},
   "source": [
    "Here's the basic one pass game for ch7"
   ]
  },
  {
   "cell_type": "code",
   "execution_count": 2,
   "metadata": {},
   "outputs": [
    {
     "name": "stdout",
     "output_type": "stream",
     "text": [
      "Whoaa Cowgirl, 11 is too big.\n"
     ]
    }
   ],
   "source": [
    "ans = 5\n",
    "x = input(\"Enter a number between 1 and 9: \\n\")\n",
    "x = int(x)\n",
    "if x == ans :\n",
    "    print(\"You guessed it! Now go play the lottery!\")\n",
    "elif x < ans :\n",
    "    print(f\"Ohhh, sorry, {x} is too small.\")\n",
    "elif x > ans :\n",
    "    print(f\"Whoaa Cowgirl, {x} is too big.\")\n",
    "else :\n",
    "    print(f\"Sorry, {x} was not the correct number.\")   "
   ]
  },
  {
   "cell_type": "markdown",
   "metadata": {},
   "source": [
    "Now here's the simplest while loop version"
   ]
  },
  {
   "cell_type": "code",
   "execution_count": 4,
   "metadata": {},
   "outputs": [],
   "source": [
    "ans = 5\n",
    "# x = 0\n",
    "while x != ans :\n",
    "    x = input(\"Enter a number between 1 and 9: \\n\")\n",
    "    x = int(x)\n",
    "    if x == ans :\n",
    "        print(\"You guessed it! Now go play the lottery!\")\n",
    "    elif x < ans :\n",
    "        print(f\"Ohhh, sorry, {x} is too small.\")\n",
    "    elif x > ans :\n",
    "        print(f\"Whoaa Cowgirl, {x} is too big.\")\n",
    "    else :\n",
    "        print(f\"Sorry, {x} was not the correct number.\")\n"
   ]
  },
  {
   "cell_type": "markdown",
   "metadata": {},
   "source": [
    "Now let's expand the code so we can quit if we want."
   ]
  },
  {
   "cell_type": "code",
   "execution_count": 1,
   "metadata": {},
   "outputs": [
    {
     "ename": "NameError",
     "evalue": "name 'x' is not defined",
     "output_type": "error",
     "traceback": [
      "\u001b[0;31m---------------------------------------------------------------------------\u001b[0m",
      "\u001b[0;31mNameError\u001b[0m                                 Traceback (most recent call last)",
      "Cell \u001b[0;32mIn[1], line 2\u001b[0m\n\u001b[1;32m      1\u001b[0m ans \u001b[38;5;241m=\u001b[39m \u001b[38;5;241m5\u001b[39m\n\u001b[0;32m----> 2\u001b[0m \u001b[38;5;28;01mwhile\u001b[39;00m \u001b[43mx\u001b[49m \u001b[38;5;241m!=\u001b[39m ans :\n\u001b[1;32m      3\u001b[0m     x \u001b[38;5;241m=\u001b[39m \u001b[38;5;28minput\u001b[39m(\u001b[38;5;124m\"\u001b[39m\u001b[38;5;124mEnter a number between 1 and 9 (q to quit): \u001b[39m\u001b[38;5;130;01m\\n\u001b[39;00m\u001b[38;5;124m\"\u001b[39m)\n\u001b[1;32m      4\u001b[0m     \u001b[38;5;28;01mif\u001b[39;00m x \u001b[38;5;241m==\u001b[39m \u001b[38;5;124m\"\u001b[39m\u001b[38;5;124mq\u001b[39m\u001b[38;5;124m\"\u001b[39m :\n",
      "\u001b[0;31mNameError\u001b[0m: name 'x' is not defined"
     ]
    }
   ],
   "source": [
    "ans = 5\n",
    "while x != ans :\n",
    "    x = input(\"Enter a number between 1 and 9 (q to quit): \\n\")\n",
    "    if x == \"q\" :\n",
    "        break\n",
    "    else :\n",
    "        x = int(x)\n",
    "        if x == ans :\n",
    "            print(\"You guessed it! Now go play the lottery!\")\n",
    "        elif x < ans :\n",
    "            print(f\"Ohhh, sorry, {x} is too small.\")\n",
    "        elif x > ans :\n",
    "            print(f\"Whoaa Cowgirl, {x} is too big.\")\n",
    "        else :\n",
    "            print(f\"Sorry, {x} was not the correct number.\")\n"
   ]
  },
  {
   "cell_type": "code",
   "execution_count": 3,
   "metadata": {},
   "outputs": [
    {
     "name": "stdout",
     "output_type": "stream",
     "text": [
      "Welcome to the number guessing game!\n",
      "I'm thinking of a number between 1 and 100...\n",
      "Ohhh, sorry, 32 is too small.\n",
      "You guessed it! Now go play the lottery!\n",
      "You guessed it! Now go play the lottery!\n",
      "Sorry to see you go. Bye!\n",
      "Thanks for playing my game while you were here. \n",
      "\n",
      "Stop by if you want to play again. \n",
      "\n",
      "Bye!\n"
     ]
    }
   ],
   "source": [
    "\n",
    "# Full game code with while loop\n",
    "\n",
    "# # set our initial test variable\n",
    "answer = 42  # Assuming answer is defined somewhere before this code\n",
    "in_str = \"\"\n",
    "guess = 0\n",
    "last_guess = 32 # \"random\" pre-initial guess\n",
    "\n",
    "print(\"Welcome to the number guessing game!\")\n",
    "input(\"Press <Enter> to start the game.\")\n",
    "print(\"I'm thinking of a number between 1 and 100...\")\n",
    "\n",
    "while in_str != \"q\" and in_str != str(answer):\n",
    "    in_str = input(\"Guess my number! (q to quit): \")\n",
    "    if in_str == \"q\":\n",
    "        print(\"Sorry to see you go. Bye!\")\n",
    "        break\n",
    "    elif in_str.isdigit():\n",
    "        guess = int(in_str)\n",
    "        if guess == answer:\n",
    "            answer = int(str(last_guess)[-1] + str(guess)[0])\n",
    "            print(\"You guessed it! Now go play the lottery!\")\n",
    "            in_str = input(\"Hit <Enter> to play again, q to quit: \")\n",
    "            if in_str == \"q\":\n",
    "                print(\"Sorry to see you go. Bye!\")\n",
    "                break\n",
    "        elif guess < answer:\n",
    "            print(f\"Ohhh, sorry, {guess} is too small.\")\n",
    "        elif guess > answer:\n",
    "            print(f\"Whoaa Cowgirl, {guess} is too big.\")\n",
    "    else:\n",
    "        print(f\"Invalid input: {in_str}. Please enter a number between 1 and 100 or 'q' to quit.\")\n",
    "    last_guess = guess\n",
    "\n",
    "print(\"Thanks for playing my game while you were here. \\n\")\n",
    "print(\"Stop by if you want to play again. \\n\")\n",
    "print(\"Bye!\")\n"
   ]
  },
  {
   "cell_type": "code",
   "execution_count": 19,
   "metadata": {},
   "outputs": [
    {
     "name": "stdout",
     "output_type": "stream",
     "text": [
      "Georgina reversed is anigroeG\n",
      "Larry reversed is yrraL\n",
      "Sophia reversed is aihpoS\n",
      "AJ reversed is JA\n"
     ]
    }
   ],
   "source": [
    "myl = [\"Georgina\", \"Larry\", \"Sophia\", \"AJ\"]\n",
    "tempstr = \"\"\n",
    "for name in myl:\n",
    "    tempstr = name[::-1]\n",
    "    print(f\"{name} reversed is {tempstr}\")\n",
    "        "
   ]
  },
  {
   "cell_type": "code",
   "execution_count": null,
   "metadata": {},
   "outputs": [],
   "source": []
  }
 ],
 "metadata": {
  "kernelspec": {
   "display_name": "FDSI",
   "language": "python",
   "name": "python3"
  },
  "language_info": {
   "codemirror_mode": {
    "name": "ipython",
    "version": 3
   },
   "file_extension": ".py",
   "mimetype": "text/x-python",
   "name": "python",
   "nbconvert_exporter": "python",
   "pygments_lexer": "ipython3",
   "version": "3.11.5"
  }
 },
 "nbformat": 4,
 "nbformat_minor": 2
}
