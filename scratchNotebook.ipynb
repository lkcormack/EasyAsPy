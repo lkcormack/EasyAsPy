{
 "cells": [
  {
   "cell_type": "code",
   "execution_count": 2,
   "metadata": {},
   "outputs": [
    {
     "name": "stdout",
     "output_type": "stream",
     "text": [
      "You guessed it! Now go play the lottery!\n"
     ]
    }
   ],
   "source": [
    "ans = 5\n",
    "x = input(\"Enter a number between 1 and 9: \\n\")\n",
    "x = int(x)\n",
    "if x == 5 :\n",
    "    print(\"You guessed it! Now go play the lottery!\")\n",
    "else :\n",
    "    print(f\"Sorry, {x} was not the correct number.\")   "
   ]
  }
 ],
 "metadata": {
  "kernelspec": {
   "display_name": "FDSI",
   "language": "python",
   "name": "python3"
  },
  "language_info": {
   "codemirror_mode": {
    "name": "ipython",
    "version": 3
   },
   "file_extension": ".py",
   "mimetype": "text/x-python",
   "name": "python",
   "nbconvert_exporter": "python",
   "pygments_lexer": "ipython3",
   "version": "3.11.5"
  }
 },
 "nbformat": 4,
 "nbformat_minor": 2
}
