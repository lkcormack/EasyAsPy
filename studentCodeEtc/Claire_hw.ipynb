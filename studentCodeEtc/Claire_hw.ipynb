{
 "cells": [
  {
   "cell_type": "markdown",
   "metadata": {},
   "source": [
    "# Claire code"
   ]
  },
  {
   "cell_type": "code",
   "execution_count": 9,
   "metadata": {},
   "outputs": [],
   "source": [
    "# greeting function with 2 arguments\n",
    "def greeting(your_name, grt_num) : \n",
    "    import random as r \n",
    "    greeting_list = ['Hello ' + your_name, 'Namaste ' + your_name, 'Salaam ' + your_name, 'Ni Hao ' + your_name]\n",
    "\n",
    "    if grt_num >= 0 and grt_num < 4 :\n",
    "        return greeting_list[grt_num]\n",
    "    else :\n",
    "        return r.choice(greeting_list)\n",
    "\n"
   ]
  },
  {
   "cell_type": "code",
   "execution_count": 11,
   "metadata": {},
   "outputs": [
    {
     "name": "stdout",
     "output_type": "stream",
     "text": [
      "Hello Larry\n"
     ]
    }
   ],
   "source": [
    "# main program\n",
    "usr_name = input('Enter your name: ')   # get name\n",
    "\n",
    "usr_greeting = int(input('Enter a number between 0 and 3 (9 for random greeting): '))  # get number\n",
    "\n",
    "the_greeting = greeting(usr_name, usr_greeting)  # call function\n",
    "\n",
    "print(the_greeting)  # print the greeting\n"
   ]
  },
  {
   "cell_type": "code",
   "execution_count": null,
   "metadata": {},
   "outputs": [],
   "source": []
  }
 ],
 "metadata": {
  "kernelspec": {
   "display_name": "base",
   "language": "python",
   "name": "python3"
  },
  "language_info": {
   "codemirror_mode": {
    "name": "ipython",
    "version": 3
   },
   "file_extension": ".py",
   "mimetype": "text/x-python",
   "name": "python",
   "nbconvert_exporter": "python",
   "pygments_lexer": "ipython3",
   "version": "3.8.18"
  }
 },
 "nbformat": 4,
 "nbformat_minor": 2
}
