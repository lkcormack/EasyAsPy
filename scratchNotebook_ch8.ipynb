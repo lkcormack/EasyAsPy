{
 "cells": [
  {
   "cell_type": "markdown",
   "metadata": {},
   "source": [
    "# Chapter 7 – modules \"eggs\" scratch notebook"
   ]
  },
  {
   "cell_type": "markdown",
   "metadata": {},
   "source": [
    "Simple code example to demonstrate human readability"
   ]
  },
  {
   "cell_type": "code",
   "execution_count": 2,
   "metadata": {},
   "outputs": [
    {
     "name": "stdout",
     "output_type": "stream",
     "text": [
      "Hi Zhihing! I'm a computer running Python!\n"
     ]
    }
   ],
   "source": [
    "user_name = input(\"What is your name?\")\n",
    "print(f\"Hi {user_name}! I'm a computer running Python!\")"
   ]
  },
  {
   "cell_type": "markdown",
   "metadata": {},
   "source": [
    "code to get a rand int using the random package"
   ]
  },
  {
   "cell_type": "code",
   "execution_count": 11,
   "metadata": {},
   "outputs": [
    {
     "name": "stdout",
     "output_type": "stream",
     "text": [
      "The random number is 10\n"
     ]
    }
   ],
   "source": [
    "import random\n",
    "my_random_number = random.randint(1, 10)\n",
    "print(f\"The random number is {my_random_number}\")"
   ]
  },
  {
   "cell_type": "markdown",
   "metadata": {},
   "source": [
    "Importing multiple packages"
   ]
  },
  {
   "cell_type": "code",
   "execution_count": 31,
   "metadata": {},
   "outputs": [
    {
     "name": "stdout",
     "output_type": "stream",
     "text": [
      "The data set is [8, 10, 10, 1, 10, 8, 2, 3, 3, 1] \n",
      "\n",
      "The mean of the data set is 5.6\n"
     ]
    }
   ],
   "source": [
    "import random\n",
    "import statistics\n",
    "\n",
    "data = [] # an empty list to hold random numbers\n",
    "for i in range(10) :\n",
    "   data.append(random.randint(1, 10))\n",
    "   \n",
    "data_mean = statistics.mean(data)\n",
    "print(f\"The data set is {data} \\n\")\n",
    "print(f\"The mean of the data set is {data_mean}\")"
   ]
  },
  {
   "cell_type": "markdown",
   "metadata": {},
   "source": [
    "Nicknames or \"aliases\" for packages"
   ]
  },
  {
   "cell_type": "code",
   "execution_count": 32,
   "metadata": {},
   "outputs": [
    {
     "name": "stdout",
     "output_type": "stream",
     "text": [
      "The data set is [10, 10, 5, 6, 2, 3, 9, 9, 1, 3] \n",
      "\n",
      "The mean of the data set is 5.8\n"
     ]
    }
   ],
   "source": [
    "import random as rnd\n",
    "import statistics as stats\n",
    "\n",
    "data = [] # an empty list to hold random numbers\n",
    "for i in range(10) :\n",
    "   data.append(rnd.randint(1, 10))\n",
    "   \n",
    "data_mean = stats.mean(data)\n",
    "print(f\"The data set is {data} \\n\")\n",
    "print(f\"The mean of the data set is {data_mean}\")"
   ]
  }
 ],
 "metadata": {
  "kernelspec": {
   "display_name": "FDSI",
   "language": "python",
   "name": "python3"
  },
  "language_info": {
   "codemirror_mode": {
    "name": "ipython",
    "version": 3
   },
   "file_extension": ".py",
   "mimetype": "text/x-python",
   "name": "python",
   "nbconvert_exporter": "python",
   "pygments_lexer": "ipython3",
   "version": "3.11.5"
  }
 },
 "nbformat": 4,
 "nbformat_minor": 2
}
