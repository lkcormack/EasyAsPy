{
 "cells": [
  {
   "cell_type": "markdown",
   "metadata": {},
   "source": [
    "# ch8 – functions scratchbook"
   ]
  },
  {
   "cell_type": "markdown",
   "metadata": {},
   "source": [
    "A very simple function"
   ]
  },
  {
   "cell_type": "code",
   "execution_count": 6,
   "metadata": {},
   "outputs": [],
   "source": [
    "def greeting(name):\n",
    "    greet_str = 'Hello, ' + name + '!'\n",
    "    return greet_str"
   ]
  },
  {
   "cell_type": "code",
   "execution_count": 8,
   "metadata": {},
   "outputs": [
    {
     "name": "stdout",
     "output_type": "stream",
     "text": [
      "Hello, Zhiying!\n"
     ]
    }
   ],
   "source": [
    "in_name = input('What is your name? ')\n",
    "g_str = greeting(in_name)\n",
    "print(g_str)\n"
   ]
  },
  {
   "cell_type": "code",
   "execution_count": 5,
   "metadata": {},
   "outputs": [
    {
     "name": "stdout",
     "output_type": "stream",
     "text": [
      "hello\n"
     ]
    }
   ],
   "source": [
    "a = input()\n",
    "print(a)"
   ]
  },
  {
   "cell_type": "markdown",
   "metadata": {},
   "source": [
    "---"
   ]
  },
  {
   "cell_type": "markdown",
   "metadata": {},
   "source": [
    "Greeting based on time of day! (move down)"
   ]
  },
  {
   "cell_type": "code",
   "execution_count": null,
   "metadata": {},
   "outputs": [],
   "source": [
    "def greeting(name):\n",
    "    print('Hello, ' + name + '!')\n",
    "    print('Good morning, ' + name + '!')"
   ]
  },
  {
   "cell_type": "code",
   "execution_count": 2,
   "metadata": {},
   "outputs": [
    {
     "name": "stdout",
     "output_type": "stream",
     "text": [
      "0\n"
     ]
    }
   ],
   "source": [
    "import time as t\n",
    "\n",
    "lt = t.localtime()\n",
    "print(lt.tm_hour)"
   ]
  },
  {
   "cell_type": "markdown",
   "metadata": {},
   "source": [
    "---"
   ]
  },
  {
   "cell_type": "markdown",
   "metadata": {},
   "source": [
    "Variable scope exercise"
   ]
  },
  {
   "cell_type": "markdown",
   "metadata": {},
   "source": [
    "clean versions"
   ]
  },
  {
   "cell_type": "code",
   "execution_count": 5,
   "metadata": {},
   "outputs": [],
   "source": [
    "def cube_me(x) :\n",
    "    ans = x**3\n",
    "    return ans"
   ]
  },
  {
   "cell_type": "code",
   "execution_count": 7,
   "metadata": {},
   "outputs": [
    {
     "name": "stdout",
     "output_type": "stream",
     "text": [
      "The cube of 4 is 64\n"
     ]
    }
   ],
   "source": [
    "side_length = 4\n",
    "the_cube = cube_me(side_length)\n",
    "print(f\"The cube of {side_length} is {the_cube}\")"
   ]
  },
  {
   "cell_type": "markdown",
   "metadata": {},
   "source": [
    "test versions with print statements"
   ]
  },
  {
   "cell_type": "code",
   "execution_count": 10,
   "metadata": {},
   "outputs": [],
   "source": [
    "def cube_me(x) :\n",
    "    # print(f\"At the start of cube_me, test_val = {test_val}\") # add second \n",
    "    ans = x**3\n",
    "    test_val = 42\n",
    "    # print(f\"At the end of cube_me, test_val = {test_val}\") # add second also too\n",
    "    return ans"
   ]
  },
  {
   "cell_type": "code",
   "execution_count": 11,
   "metadata": {},
   "outputs": [
    {
     "name": "stdout",
     "output_type": "stream",
     "text": [
      "In the main program, test_val is 11\n"
     ]
    },
    {
     "ename": "NameError",
     "evalue": "name 'x' is not defined",
     "output_type": "error",
     "traceback": [
      "\u001b[0;31m---------------------------------------------------------------------------\u001b[0m",
      "\u001b[0;31mNameError\u001b[0m                                 Traceback (most recent call last)",
      "Cell \u001b[0;32mIn[11], line 5\u001b[0m\n\u001b[1;32m      3\u001b[0m \u001b[38;5;28mprint\u001b[39m(\u001b[38;5;124mf\u001b[39m\u001b[38;5;124m\"\u001b[39m\u001b[38;5;124mIn the main program, test_val is \u001b[39m\u001b[38;5;132;01m{\u001b[39;00mtest_val\u001b[38;5;132;01m}\u001b[39;00m\u001b[38;5;124m\"\u001b[39m) \u001b[38;5;66;03m# add first \u001b[39;00m\n\u001b[1;32m      4\u001b[0m the_cube \u001b[38;5;241m=\u001b[39m cube_me(side_length)\n\u001b[0;32m----> 5\u001b[0m \u001b[38;5;28mprint\u001b[39m(\u001b[38;5;124mf\u001b[39m\u001b[38;5;124m\"\u001b[39m\u001b[38;5;124mBack in the main program, x is \u001b[39m\u001b[38;5;132;01m{\u001b[39;00m\u001b[43mx\u001b[49m\u001b[38;5;132;01m}\u001b[39;00m\u001b[38;5;124m\"\u001b[39m) \u001b[38;5;66;03m# add last\u001b[39;00m\n\u001b[1;32m      6\u001b[0m \u001b[38;5;28mprint\u001b[39m(\u001b[38;5;124mf\u001b[39m\u001b[38;5;124m\"\u001b[39m\u001b[38;5;124mThe cube of \u001b[39m\u001b[38;5;132;01m{\u001b[39;00mside_length\u001b[38;5;132;01m}\u001b[39;00m\u001b[38;5;124m is \u001b[39m\u001b[38;5;132;01m{\u001b[39;00mthe_cube\u001b[38;5;132;01m}\u001b[39;00m\u001b[38;5;124m\"\u001b[39m)\n",
      "\u001b[0;31mNameError\u001b[0m: name 'x' is not defined"
     ]
    }
   ],
   "source": [
    "test_val = 11\n",
    "side_length = 3\n",
    "print(f\"In the main program, test_val is {test_val}\") # add first \n",
    "the_cube = cube_me(side_length)\n",
    "print(f\"Back in the main program, x is {x}\") # add last\n",
    "print(f\"The cube of {side_length} is {the_cube}\")"
   ]
  },
  {
   "cell_type": "code",
   "execution_count": null,
   "metadata": {},
   "outputs": [
    {
     "name": "stdout",
     "output_type": "stream",
     "text": [
      "The cube of 4 is 64\n"
     ]
    }
   ],
   "source": [
    "side_length = 4\n",
    "the_cube = cube_me(side_length)\n",
    "print(f\"The cube of {side_length} is {the_cube}\")"
   ]
  },
  {
   "cell_type": "markdown",
   "metadata": {},
   "source": []
  },
  {
   "cell_type": "markdown",
   "metadata": {},
   "source": [
    "Accessing globals using `global` keyword"
   ]
  },
  {
   "cell_type": "code",
   "execution_count": 17,
   "metadata": {},
   "outputs": [
    {
     "name": "stdout",
     "output_type": "stream",
     "text": [
      "In the main program, test_val is 11\n",
      "At the start of cube_me, test_val = 11\n",
      "At the end of cube_me, test_val = 42\n",
      "Back in the main program, x is 42\n",
      "The cube of 3 is 27\n"
     ]
    }
   ],
   "source": [
    "\n",
    "\n",
    "def cube_me(x) :\n",
    "    global test_val\n",
    "    print(f\"At the start of cube_me, test_val = {test_val}\") # add second \n",
    "    ans = x**3\n",
    "    test_val = 42\n",
    "    print(f\"At the end of cube_me, test_val = {test_val}\") # add second also too\n",
    "    return ans\n",
    "\n",
    "side_length = 3\n",
    "test_val = 11\n",
    "print(f\"In the main program, test_val is {test_val}\") # add first \n",
    "the_cube = cube_me(side_length)\n",
    "print(f\"Back in the main program, x is {test_val}\") # add last\n",
    "print(f\"The cube of {side_length} is {the_cube}\")"
   ]
  }
 ],
 "metadata": {
  "kernelspec": {
   "display_name": "FDSI",
   "language": "python",
   "name": "python3"
  },
  "language_info": {
   "codemirror_mode": {
    "name": "ipython",
    "version": 3
   },
   "file_extension": ".py",
   "mimetype": "text/x-python",
   "name": "python",
   "nbconvert_exporter": "python",
   "pygments_lexer": "ipython3",
   "version": "3.11.5"
  }
 },
 "nbformat": 4,
 "nbformat_minor": 2
}
