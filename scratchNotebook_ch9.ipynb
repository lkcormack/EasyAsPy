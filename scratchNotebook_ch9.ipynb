{
 "cells": [
  {
   "cell_type": "markdown",
   "metadata": {},
   "source": [
    "# ch8 – functions scratchbook"
   ]
  },
  {
   "cell_type": "markdown",
   "metadata": {},
   "source": [
    "A very simple function"
   ]
  },
  {
   "cell_type": "code",
   "execution_count": 6,
   "metadata": {},
   "outputs": [],
   "source": [
    "def greeting(name):\n",
    "    greet_str = 'Hello, ' + name + '!'\n",
    "    return greet_str"
   ]
  },
  {
   "cell_type": "code",
   "execution_count": 8,
   "metadata": {},
   "outputs": [
    {
     "name": "stdout",
     "output_type": "stream",
     "text": [
      "Hello, Zhiying!\n"
     ]
    }
   ],
   "source": [
    "in_name = input('What is your name? ')\n",
    "g_str = greeting(in_name)\n",
    "print(g_str)\n"
   ]
  },
  {
   "cell_type": "code",
   "execution_count": 5,
   "metadata": {},
   "outputs": [
    {
     "name": "stdout",
     "output_type": "stream",
     "text": [
      "hello\n"
     ]
    }
   ],
   "source": [
    "a = input()\n",
    "print(a)"
   ]
  },
  {
   "cell_type": "markdown",
   "metadata": {},
   "source": [
    "---"
   ]
  },
  {
   "cell_type": "markdown",
   "metadata": {},
   "source": [
    "Greeting based on time of day! (move down)"
   ]
  },
  {
   "cell_type": "code",
   "execution_count": null,
   "metadata": {},
   "outputs": [],
   "source": [
    "def greeting(name):\n",
    "    print('Hello, ' + name + '!')\n",
    "    print('Good morning, ' + name + '!')"
   ]
  },
  {
   "cell_type": "code",
   "execution_count": 2,
   "metadata": {},
   "outputs": [
    {
     "name": "stdout",
     "output_type": "stream",
     "text": [
      "0\n"
     ]
    }
   ],
   "source": [
    "import time as t\n",
    "\n",
    "lt = t.localtime()\n",
    "print(lt.tm_hour)"
   ]
  },
  {
   "cell_type": "markdown",
   "metadata": {},
   "source": [
    "---"
   ]
  },
  {
   "cell_type": "markdown",
   "metadata": {},
   "source": [
    "Variable scope exercise"
   ]
  },
  {
   "cell_type": "markdown",
   "metadata": {},
   "source": [
    "clean versions"
   ]
  },
  {
   "cell_type": "code",
   "execution_count": 5,
   "metadata": {},
   "outputs": [],
   "source": [
    "def cube_me(x) :\n",
    "    ans = x**3\n",
    "    return ans"
   ]
  },
  {
   "cell_type": "code",
   "execution_count": 7,
   "metadata": {},
   "outputs": [
    {
     "name": "stdout",
     "output_type": "stream",
     "text": [
      "The cube of 4 is 64\n"
     ]
    }
   ],
   "source": [
    "side_length = 4\n",
    "the_cube = cube_me(side_length)\n",
    "print(f\"The cube of {side_length} is {the_cube}\")"
   ]
  },
  {
   "cell_type": "markdown",
   "metadata": {},
   "source": [
    "test versions with print statements"
   ]
  },
  {
   "cell_type": "code",
   "execution_count": 19,
   "metadata": {},
   "outputs": [],
   "source": [
    "def cube_me(x) :\n",
    "    test_val = 42\n",
    "    print(f\"At the start of cube_me, test_val = {test_val}\") # add second \n",
    "    ans = x**3\n",
    "    print(f\"At the end of cube_me, test_val = {test_val}\") # add second also too\n",
    "    return ans"
   ]
  },
  {
   "cell_type": "code",
   "execution_count": 21,
   "metadata": {},
   "outputs": [
    {
     "name": "stdout",
     "output_type": "stream",
     "text": [
      "In the main program, test_val is 11\n",
      "At the start of cube_me, test_val = 42\n",
      "At the end of cube_me, test_val = 42\n",
      "Back in the main program, test_val is 11\n",
      "The cube of 3 is 27\n"
     ]
    }
   ],
   "source": [
    "test_val = 11\n",
    "side_length = 3\n",
    "print(f\"In the main program, test_val is {test_val}\") # add first \n",
    "the_cube = cube_me(side_length)\n",
    "print(f\"Back in the main program, test_val is {test_val}\") # add last\n",
    "print(f\"The cube of {side_length} is {the_cube}\")"
   ]
  },
  {
   "cell_type": "code",
   "execution_count": null,
   "metadata": {},
   "outputs": [
    {
     "name": "stdout",
     "output_type": "stream",
     "text": [
      "The cube of 4 is 64\n"
     ]
    }
   ],
   "source": [
    "side_length = 4\n",
    "the_cube = cube_me(side_length)\n",
    "print(f\"The cube of {side_length} is {the_cube}\")"
   ]
  },
  {
   "cell_type": "markdown",
   "metadata": {},
   "source": []
  },
  {
   "cell_type": "markdown",
   "metadata": {},
   "source": [
    "Accessing globals using `global` keyword"
   ]
  },
  {
   "cell_type": "code",
   "execution_count": 17,
   "metadata": {},
   "outputs": [
    {
     "name": "stdout",
     "output_type": "stream",
     "text": [
      "In the main program, test_val is 11\n",
      "At the start of cube_me, test_val = 11\n",
      "At the end of cube_me, test_val = 42\n",
      "Back in the main program, x is 42\n",
      "The cube of 3 is 27\n"
     ]
    }
   ],
   "source": [
    "\n",
    "\n",
    "def cube_me(x) :\n",
    "    global test_val\n",
    "    print(f\"At the start of cube_me, test_val = {test_val}\") # add second \n",
    "    ans = x**3\n",
    "    test_val = 42\n",
    "    print(f\"At the end of cube_me, test_val = {test_val}\") # add second also too\n",
    "    return ans\n",
    "\n",
    "side_length = 3\n",
    "test_val = 11\n",
    "print(f\"In the main program, test_val is {test_val}\") # add first \n",
    "the_cube = cube_me(side_length)\n",
    "print(f\"Back in the main program, x is {test_val}\") # add last\n",
    "print(f\"The cube of {side_length} is {the_cube}\")"
   ]
  },
  {
   "cell_type": "markdown",
   "metadata": {},
   "source": [
    "---"
   ]
  },
  {
   "cell_type": "markdown",
   "metadata": {},
   "source": [
    "function to return first char of a string"
   ]
  },
  {
   "cell_type": "code",
   "execution_count": 22,
   "metadata": {},
   "outputs": [
    {
     "name": "stdout",
     "output_type": "stream",
     "text": [
      "The first character of Hello is H\n"
     ]
    }
   ],
   "source": [
    "def fc(in_str) :\n",
    "    ans = in_str[0] \n",
    "    return ans\n",
    "\n",
    "my_str = \"Hello\"\n",
    "first_char = fc(my_str)\n",
    "print(f\"The first character of {my_str} is {first_char}\")"
   ]
  }
 ],
 "metadata": {
  "kernelspec": {
   "display_name": "FDSI",
   "language": "python",
   "name": "python3"
  },
  "language_info": {
   "codemirror_mode": {
    "name": "ipython",
    "version": 3
   },
   "file_extension": ".py",
   "mimetype": "text/x-python",
   "name": "python",
   "nbconvert_exporter": "python",
   "pygments_lexer": "ipython3",
   "version": "3.11.5"
  }
 },
 "nbformat": 4,
 "nbformat_minor": 2
}
